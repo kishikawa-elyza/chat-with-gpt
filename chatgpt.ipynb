{
 "cells": [
  {
   "cell_type": "code",
   "execution_count": null,
   "metadata": {},
   "outputs": [],
   "source": [
    "import openai\n",
    "import os\n",
    "import time\n",
    "\n",
    "# apikey = os.environ['OPENAI_API_KEY']\n",
    "# openai.api_key = apikey\n",
    "\n",
    "# OpenAI APIキーの設定\n",
    "openai.api_key = ''\n",
    "\n",
    "def ask_gpt(question, model=\"gpt-3.5-turbo\"):\n",
    "    response = openai.ChatCompletion.create(\n",
    "        model=model,\n",
    "        messages=[\n",
    "            {\"role\": \"system\", \"content\": \"あなたは最高のアシスタントです。ステップバイステップで考え、出力は日本語で行ってください。\"},\n",
    "            {\"role\": \"user\", \"content\": question}\n",
    "        ],\n",
    "        max_tokens=2000,\n",
    "        temperature=0.7,\n",
    "    )\n",
    "    return response.choices[0].message['content'].strip()\n",
    "\n",
    "print(\"入力してください（終了するには 'q' と入力）\")\n",
    "\n",
    "while True:\n",
    "    user_question = input(\"USER: \")\n",
    "    if user_question.lower() == 'q':\n",
    "        break\n",
    "\n",
    "    start_time = time.time()\n",
    "    ai_response = ask_gpt(user_question)\n",
    "    end_time = time.time()\n",
    "\n",
    "    time_taken = end_time - start_time\n",
    "    print(\"あなた: \", user_question)\n",
    "    print(\"AIの回答: \", ai_response)\n",
    "    print(\"実行時間: {:.2f} 秒\\n-------------\".format(time_taken))"
   ]
  }
 ],
 "metadata": {
  "kernelspec": {
   "display_name": "Python 3",
   "language": "python",
   "name": "python3"
  },
  "language_info": {
   "codemirror_mode": {
    "name": "ipython",
    "version": 3
   },
   "file_extension": ".py",
   "mimetype": "text/x-python",
   "name": "python",
   "nbconvert_exporter": "python",
   "pygments_lexer": "ipython3",
   "version": "3.10.13"
  }
 },
 "nbformat": 4,
 "nbformat_minor": 2
}
