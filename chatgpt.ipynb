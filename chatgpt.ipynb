{
 "cells": [
  {
   "cell_type": "code",
   "execution_count": null,
   "metadata": {},
   "outputs": [],
   "source": [
    "import openai\n",
    "from dotenv import load_dotenv\n",
    "import os\n",
    "import time\n",
    "\n",
    "load_dotenv()  # .envファイルから環境変数を読み込む\n",
    "\n",
    "api_key = os.getenv('OPENAI_API_KEY')\n",
    "openai.api_key = api_key\n",
    "\n",
    "def ask_gpt(question, model=\"gpt-4-1106-preview\", history=[]):\n",
    "    response = openai.ChatCompletion.create(\n",
    "        model=model,\n",
    "        messages=[\n",
    "            {\"role\": \"system\", \"content\": \"あなたは最高のアシスタントです。ステップバイステップで考え、出力は日本語で行ってください。\"},\n",
    "            {\"role\": \"user\", \"content\": \"\\n\".join(history + [question])}\n",
    "        ],\n",
    "        max_tokens=2000,\n",
    "        temperature=0.7,\n",
    "    )\n",
    "    return response.choices[0].message['content'].strip()\n",
    "\n",
    "def write_to_file(file_path, text):\n",
    "    with open(file_path, 'a', encoding='utf-8') as file:\n",
    "        file.write(text + \"\\n\")\n",
    "\n",
    "print(\"入力してください（終了するには 'q' と入力）\")\n",
    "\n",
    "# 過去の会話履歴を保存するリスト\n",
    "history = []\n",
    "\n",
    "while True:\n",
    "    user_question = input(\"USER: \")\n",
    "    if user_question.lower() == 'q':\n",
    "        break\n",
    "\n",
    "    start_time = time.time()\n",
    "    ai_response = ask_gpt(user_question, history=history)\n",
    "    end_time = time.time()\n",
    "\n",
    "    time_taken = end_time - start_time\n",
    "    conversation = \"あなた: {}\\nAIの回答: {}\\n実行時間: {:.2f} 秒\\n-------------\\n\".format(user_question, ai_response, time_taken)\n",
    "    \n",
    "    print(conversation)\n",
    "\n",
    "    # 会話をテキストファイルに追記\n",
    "    write_to_file(\"conversation_history.txt\", conversation)\n",
    "\n",
    "    history.append(user_question)\n",
    "    history.append(ai_response)"
   ]
  }
 ],
 "metadata": {
  "kernelspec": {
   "display_name": "Python 3",
   "language": "python",
   "name": "python3"
  },
  "language_info": {
   "codemirror_mode": {
    "name": "ipython",
    "version": 3
   },
   "file_extension": ".py",
   "mimetype": "text/x-python",
   "name": "python",
   "nbconvert_exporter": "python",
   "pygments_lexer": "ipython3",
   "version": "3.10.8"
  }
 },
 "nbformat": 4,
 "nbformat_minor": 2
}
